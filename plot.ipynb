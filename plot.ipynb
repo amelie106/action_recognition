{
 "cells": [
  {
   "cell_type": "code",
   "execution_count": 10,
   "metadata": {},
   "outputs": [],
   "source": [
    "import numpy as np\n",
    "import pandas as pd\n",
    "import pickle\n",
    "from sklearn.svm import SVC\n",
    "from sklearn.model_selection import KFold\n",
    "from sklearn import metrics\n",
    "from sklearn.metrics import confusion_matrix\n",
    "import matplotlib.pyplot as plt\n",
    "from sklearn.metrics import top_k_accuracy_score\n",
    "from sklearn.metrics import accuracy_score, roc_curve, auc\n",
    "from sklearn.linear_model import RidgeClassifier\n",
    "from sklearn.multiclass import OneVsRestClassifier\n",
    "from sklearn.svm import LinearSVC\n",
    "import seaborn as sns"
   ]
  },
  {
   "cell_type": "code",
   "execution_count": 11,
   "metadata": {},
   "outputs": [],
   "source": [
    "def max_value(inputlist):\n",
    "    return max([int(sublist[-1]) for sublist in inputlist])\n",
    "    \n",
    "def min_value(inputlist):\n",
    "    return min([int(sublist[-1]) for sublist in inputlist])"
   ]
  },
  {
   "cell_type": "code",
   "execution_count": 12,
   "metadata": {},
   "outputs": [],
   "source": [
    "# load CLIP features\n",
    "with open('extracted/features_clip.pkl', 'rb') as f:\n",
    "    data=pickle.load(f)\n",
    "with open('extracted/labels_clip.pkl', 'rb') as f:\n",
    "    label=pickle.load(f)\n",
    "\n",
    "# load baseline features\n",
    "# with open('extracted/features_baseline.pkl', 'rb') as f:\n",
    "#     data=pickle.load(f)\n",
    "# with open('extracted/labels_baseline.pkl', 'rb') as f:\n",
    "#     label=pickle.load(f)"
   ]
  },
  {
   "cell_type": "code",
   "execution_count": 17,
   "metadata": {},
   "outputs": [],
   "source": [
    "wrong_predictions=[]\n",
    "\n",
    "svm_train_top_k_accuracy_scores=[]\n",
    "svm_test_top_k_accuracy_scores=[]\n",
    "\n",
    "ridge_train_top_k_accuracy_scores=[]\n",
    "ridge_test_top_k_accuracy_scores=[]\n",
    "\n",
    "false = {'squirrel': 0,'chicken': 0,'duck': 0}\n",
    "total_animals = {'squirrel': 0,'chicken': 0,'duck': 0}\n",
    "\n",
    "animals = []"
   ]
  },
  {
   "cell_type": "code",
   "execution_count": 18,
   "metadata": {},
   "outputs": [
    {
     "name": "stdout",
     "output_type": "stream",
     "text": [
      "Person: 11\n",
      "Test: ['squirrel', 'squirrel']\n",
      "SVC pred: ['duck' 'squirrel']\n",
      "Person: 17\n",
      "Test: ['squirrel', 'squirrel']\n",
      "SVC pred: ['duck' 'squirrel']\n",
      "Person: 18\n",
      "Test: ['chicken', 'chicken']\n",
      "SVC pred: ['chicken' 'squirrel']\n",
      "Person: 18\n",
      "Test: ['duck', 'duck']\n",
      "SVC pred: ['duck' 'squirrel']\n",
      "Person: 18\n",
      "Test: ['squirrel', 'squirrel']\n",
      "SVC pred: ['squirrel' 'duck']\n",
      "Person: 19\n",
      "Test: ['duck', 'duck']\n",
      "SVC pred: ['squirrel' 'duck']\n",
      "Person: 19\n",
      "Test: ['squirrel', 'squirrel']\n",
      "SVC pred: ['squirrel' 'duck']\n"
     ]
    }
   ],
   "source": [
    "for subject in range(min_value(label), max_value(label)+1):\n",
    "    for animal in ['chicken', 'duck', 'squirrel']:\n",
    "        X_train = []\n",
    "        X_test = []\n",
    "        y_train = []\n",
    "        y_test = []\n",
    "        testperson = 0\n",
    "\n",
    "        for idx in range(len(data)):\n",
    "            if label[idx][2] == str(subject) and label[idx][0] == animal:\n",
    "                X_test.append(data[idx])\n",
    "                y_test.append(label[idx][0])\n",
    "                testperson = subject\n",
    "            else:\n",
    "                X_train.append(data[idx])\n",
    "                y_train.append(label[idx][0])\n",
    "\n",
    "        if X_train and X_test and y_train and y_test:\n",
    "            \n",
    "            ## Ridge\n",
    "            clf = RidgeClassifier()\n",
    "            clf.fit(X_train, y_train)\n",
    "\n",
    "            Y_train_pred_ridge = clf.predict(X_train)\n",
    "            Y_test_pred_ridge = clf.predict(X_test)\n",
    "\n",
    "            ridge_train_top_k_accuracy_scores.append(accuracy_score(y_train,Y_train_pred_ridge))\n",
    "            ridge_test_top_k_accuracy_scores.append(accuracy_score(y_test,Y_test_pred_ridge))\n",
    "\n",
    "            ## SVC\n",
    "            clf = SVC(C=100)\n",
    "            clf.fit(X_train, y_train)\n",
    "\n",
    "            Y_train_pred_svc = clf.predict(X_train)\n",
    "            Y_test_pred_svc = clf.predict(X_test)\n",
    "\n",
    "            svm_train_top_k_accuracy_scores.append(accuracy_score(y_train,Y_train_pred_svc))\n",
    "            svm_test_top_k_accuracy_scores.append(accuracy_score(y_test,Y_test_pred_svc))\n",
    "\n",
    "            total_animals[animal] += 2\n",
    "            animals.append(animal)\n",
    "            \n",
    "            # change to Y_test_pred_ridge for Ridge classification results\n",
    "            if not np.array_equal(Y_test_pred_svc, y_test):\n",
    "                print('Person:',testperson)\n",
    "                print('Test:',y_test)\n",
    "                print('SVC pred:', Y_test_pred_svc)\n",
    "                false[animal] += 1"
   ]
  },
  {
   "cell_type": "code",
   "execution_count": 15,
   "metadata": {},
   "outputs": [
    {
     "name": "stdout",
     "output_type": "stream",
     "text": [
      "{'squirrel': 4, 'chicken': 1, 'duck': 2}\n",
      "{'squirrel': 42, 'chicken': 42, 'duck': 42}\n"
     ]
    }
   ],
   "source": [
    "print(false)\n",
    "print(total_animals)"
   ]
  },
  {
   "cell_type": "code",
   "execution_count": 21,
   "metadata": {},
   "outputs": [],
   "source": [
    "# change Accuracy list to ridge_test_top_k_accuracy_scores for Ridge results\n",
    "df = pd.DataFrame({'Category': animals, 'Accuracy': svm_test_top_k_accuracy_scores})"
   ]
  },
  {
   "cell_type": "code",
   "execution_count": 22,
   "metadata": {},
   "outputs": [
    {
     "data": {
      "image/png": "[encoded data removed]",
      "text/plain": [
       "<Figure size 640x480 with 1 Axes>"
      ]
     },
     "metadata": {},
     "output_type": "display_data"
    }
   ],
   "source": [
    "ax = sns.pointplot(df, x='Category', y='Accuracy', color='orange', order=['duck', 'squirrel', 'chicken'], linestyles='')\n",
    "_ = ax.set_title('Accuracy for respective Categories')"
   ]
  }
 ],
 "metadata": {
  "kernelspec": {
   "display_name": "Python 3",
   "language": "python",
   "name": "python3"
  },
  "language_info": {
   "codemirror_mode": {
    "name": "ipython",
    "version": 3
   },
   "file_extension": ".py",
   "mimetype": "text/x-python",
   "name": "python",
   "nbconvert_exporter": "python",
   "pygments_lexer": "ipython3",
   "version": "3.8.0"
  },
  "orig_nbformat": 4,
  "vscode": {
   "interpreter": {
    "hash": "7f98614839827e241d8769e77beb87964b7d51ca2f59aa0f2ff5b3c5a548d61a"
   }
  }
 },
 "nbformat": 4,
 "nbformat_minor": 2
}
