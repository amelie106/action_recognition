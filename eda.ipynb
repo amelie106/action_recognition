{
 "cells": [
  {
   "cell_type": "code",
   "execution_count": 3,
   "metadata": {},
   "outputs": [],
   "source": [
    "import pandas as pd\n",
    "import seaborn as sns"
   ]
  },
  {
   "cell_type": "code",
   "execution_count": 4,
   "metadata": {},
   "outputs": [
    {
     "data": {
      "text/html": [
       "<div>\n",
       "<style scoped>\n",
       "    .dataframe tbody tr th:only-of-type {\n",
       "        vertical-align: middle;\n",
       "    }\n",
       "\n",
       "    .dataframe tbody tr th {\n",
       "        vertical-align: top;\n",
       "    }\n",
       "\n",
       "    .dataframe thead th {\n",
       "        text-align: right;\n",
       "    }\n",
       "</style>\n",
       "<table border=\"1\" class=\"dataframe\">\n",
       "  <thead>\n",
       "    <tr style=\"text-align: right;\">\n",
       "      <th></th>\n",
       "      <th>image</th>\n",
       "      <th>caption</th>\n",
       "      <th>cleanliness</th>\n",
       "      <th>subject</th>\n",
       "      <th>trial</th>\n",
       "    </tr>\n",
       "  </thead>\n",
       "  <tbody>\n",
       "    <tr>\n",
       "      <th>0</th>\n",
       "      <td>data/images_clean/duck_clean_5_8.jpg</td>\n",
       "      <td>duck</td>\n",
       "      <td>clean</td>\n",
       "      <td>5</td>\n",
       "      <td>8</td>\n",
       "    </tr>\n",
       "    <tr>\n",
       "      <th>1</th>\n",
       "      <td>data/images_clean/squirrel_clean_6_3.jpg</td>\n",
       "      <td>squirrel</td>\n",
       "      <td>clean</td>\n",
       "      <td>6</td>\n",
       "      <td>3</td>\n",
       "    </tr>\n",
       "    <tr>\n",
       "      <th>2</th>\n",
       "      <td>data/images_clean/duck_clean_15_4.jpg</td>\n",
       "      <td>duck</td>\n",
       "      <td>clean</td>\n",
       "      <td>15</td>\n",
       "      <td>4</td>\n",
       "    </tr>\n",
       "    <tr>\n",
       "      <th>3</th>\n",
       "      <td>data/images_clean/chicken_clean_5_2.jpg</td>\n",
       "      <td>chicken</td>\n",
       "      <td>clean</td>\n",
       "      <td>5</td>\n",
       "      <td>2</td>\n",
       "    </tr>\n",
       "    <tr>\n",
       "      <th>4</th>\n",
       "      <td>data/images_clean/squirrel_clean_1_9.jpg</td>\n",
       "      <td>squirrel</td>\n",
       "      <td>clean</td>\n",
       "      <td>1</td>\n",
       "      <td>9</td>\n",
       "    </tr>\n",
       "    <tr>\n",
       "      <th>...</th>\n",
       "      <td>...</td>\n",
       "      <td>...</td>\n",
       "      <td>...</td>\n",
       "      <td>...</td>\n",
       "      <td>...</td>\n",
       "    </tr>\n",
       "    <tr>\n",
       "      <th>1211</th>\n",
       "      <td>data/images_noisy/duck_noisy_8_8.jpg</td>\n",
       "      <td>duck</td>\n",
       "      <td>noisy</td>\n",
       "      <td>8</td>\n",
       "      <td>8</td>\n",
       "    </tr>\n",
       "    <tr>\n",
       "      <th>1212</th>\n",
       "      <td>data/images_noisy/chicken_noisy_16_1.jpg</td>\n",
       "      <td>chicken</td>\n",
       "      <td>noisy</td>\n",
       "      <td>16</td>\n",
       "      <td>1</td>\n",
       "    </tr>\n",
       "    <tr>\n",
       "      <th>1213</th>\n",
       "      <td>data/images_noisy/chicken_noisy_17_9.jpg</td>\n",
       "      <td>chicken</td>\n",
       "      <td>noisy</td>\n",
       "      <td>17</td>\n",
       "      <td>9</td>\n",
       "    </tr>\n",
       "    <tr>\n",
       "      <th>1214</th>\n",
       "      <td>data/images_noisy/chicken_noisy_12_9.jpg</td>\n",
       "      <td>chicken</td>\n",
       "      <td>noisy</td>\n",
       "      <td>12</td>\n",
       "      <td>9</td>\n",
       "    </tr>\n",
       "    <tr>\n",
       "      <th>1215</th>\n",
       "      <td>data/images_noisy/duck_noisy_14_2.jpg</td>\n",
       "      <td>duck</td>\n",
       "      <td>noisy</td>\n",
       "      <td>14</td>\n",
       "      <td>2</td>\n",
       "    </tr>\n",
       "  </tbody>\n",
       "</table>\n",
       "<p>1216 rows × 5 columns</p>\n",
       "</div>"
      ],
      "text/plain": [
       "                                         image   caption cleanliness  subject  \\\n",
       "0         data/images_clean/duck_clean_5_8.jpg      duck       clean        5   \n",
       "1     data/images_clean/squirrel_clean_6_3.jpg  squirrel       clean        6   \n",
       "2        data/images_clean/duck_clean_15_4.jpg      duck       clean       15   \n",
       "3      data/images_clean/chicken_clean_5_2.jpg   chicken       clean        5   \n",
       "4     data/images_clean/squirrel_clean_1_9.jpg  squirrel       clean        1   \n",
       "...                                        ...       ...         ...      ...   \n",
       "1211      data/images_noisy/duck_noisy_8_8.jpg      duck       noisy        8   \n",
       "1212  data/images_noisy/chicken_noisy_16_1.jpg   chicken       noisy       16   \n",
       "1213  data/images_noisy/chicken_noisy_17_9.jpg   chicken       noisy       17   \n",
       "1214  data/images_noisy/chicken_noisy_12_9.jpg   chicken       noisy       12   \n",
       "1215     data/images_noisy/duck_noisy_14_2.jpg      duck       noisy       14   \n",
       "\n",
       "      trial  \n",
       "0         8  \n",
       "1         3  \n",
       "2         4  \n",
       "3         2  \n",
       "4         9  \n",
       "...     ...  \n",
       "1211      8  \n",
       "1212      1  \n",
       "1213      9  \n",
       "1214      9  \n",
       "1215      2  \n",
       "\n",
       "[1216 rows x 5 columns]"
      ]
     },
     "execution_count": 4,
     "metadata": {},
     "output_type": "execute_result"
    }
   ],
   "source": [
    "df = pd.read_csv('data/csv/images.csv', index_col=0)\n",
    "df"
   ]
  },
  {
   "cell_type": "code",
   "execution_count": 5,
   "metadata": {},
   "outputs": [
    {
     "data": {
      "text/plain": [
       "Text(0.5, 1.0, 'Dataset')"
      ]
     },
     "execution_count": 5,
     "metadata": {},
     "output_type": "execute_result"
    },
    {
     "data": {
      "image/png": "[encoded data removed]",
      "text/plain": [
       "<Figure size 640x480 with 1 Axes>"
      ]
     },
     "metadata": {},
     "output_type": "display_data"
    }
   ],
   "source": [
    "ax = sns.countplot(df, x='cleanliness', palette='rocket')\n",
    "ax.set_title('Dataset')"
   ]
  }
 ],
 "metadata": {
  "kernelspec": {
   "display_name": "Python 3",
   "language": "python",
   "name": "python3"
  },
  "language_info": {
   "codemirror_mode": {
    "name": "ipython",
    "version": 3
   },
   "file_extension": ".py",
   "mimetype": "text/x-python",
   "name": "python",
   "nbconvert_exporter": "python",
   "pygments_lexer": "ipython3",
   "version": "3.8.0"
  },
  "orig_nbformat": 4,
  "vscode": {
   "interpreter": {
    "hash": "7f98614839827e241d8769e77beb87964b7d51ca2f59aa0f2ff5b3c5a548d61a"
   }
  }
 },
 "nbformat": 4,
 "nbformat_minor": 2
}
